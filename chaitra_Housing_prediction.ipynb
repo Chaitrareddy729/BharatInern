{
  "nbformat": 4,
  "nbformat_minor": 0,
  "metadata": {
    "colab": {
      "private_outputs": true,
      "provenance": []
    },
    "kernelspec": {
      "name": "python3",
      "display_name": "Python 3"
    },
    "language_info": {
      "name": "python"
    }
  },
  "cells": [
    {
      "cell_type": "code",
      "execution_count": null,
      "metadata": {
        "id": "9AWjJbW6uDYg"
      },
      "outputs": [],
      "source": [
        "import numpy as np\n",
        "import pandas as pd\n",
        "import matplotlib.pyplot as plt\n",
        "import seaborn as sns\n",
        "from sklearn.model_selection import train_test_split\n",
        "from sklearn.preprocessing import MinMaxScaler\n",
        "from sklearn.linear_model import LinearRegression\n",
        "from sklearn.metrics import r2_score\n",
        ""
      ]
    },
    {
      "cell_type": "code",
      "source": [
        "data = pd.read_csv('/content/Housing.csv')\n",
        "data.head()\n",
        ""
      ],
      "metadata": {
        "id": "YwXzlzUNuW_N"
      },
      "execution_count": null,
      "outputs": []
    },
    {
      "cell_type": "code",
      "source": [
        "data.tail(5)"
      ],
      "metadata": {
        "id": "3g6x1dF6ux-d"
      },
      "execution_count": null,
      "outputs": []
    },
    {
      "cell_type": "code",
      "source": [
        "data.info()"
      ],
      "metadata": {
        "id": "WzasOKT_u4lP"
      },
      "execution_count": null,
      "outputs": []
    },
    {
      "cell_type": "code",
      "source": [
        "data.columns\n",
        "data.select_dtypes(include='object').columns\n",
        ""
      ],
      "metadata": {
        "id": "3lVqStJyu_in"
      },
      "execution_count": null,
      "outputs": []
    },
    {
      "cell_type": "code",
      "source": [
        "data.describe(include = 'all')\n"
      ],
      "metadata": {
        "id": "45dq9QaHvFj8"
      },
      "execution_count": null,
      "outputs": []
    },
    {
      "cell_type": "code",
      "source": [
        "data.isnull().sum()"
      ],
      "metadata": {
        "id": "lmoUncTovRB6"
      },
      "execution_count": null,
      "outputs": []
    },
    {
      "cell_type": "code",
      "source": [
        "plt.hist(data[\n",
        "'price'\n",
        "])\n",
        "plt.xlabel(\n",
        "'Price'\n",
        ")\n",
        "plt.ylabel(\n",
        "'Frequency'\n",
        ")\n",
        "plt.show()"
      ],
      "metadata": {
        "id": "t6Mu7v1kvTMm"
      },
      "execution_count": null,
      "outputs": []
    },
    {
      "cell_type": "code",
      "source": [
        "sns.boxplot(x='furnishingstatus', y='price', data=data)\n",
        "plt.xlabel('Furnishing Status')\n",
        "plt.ylabel('Price')\n",
        "plt.show()"
      ],
      "metadata": {
        "id": "yO8h82svvYhb"
      },
      "execution_count": null,
      "outputs": []
    },
    {
      "cell_type": "code",
      "source": [
        "plt.scatter(data[\n",
        "'area'\n",
        "], data[\n",
        "'price'\n",
        "])\n",
        "plt.xlabel(\n",
        "'Area'\n",
        ")\n",
        "plt.ylabel(\n",
        "'Price'\n",
        ")\n",
        "plt.show()"
      ],
      "metadata": {
        "id": "BqgN6O6EvdmV"
      },
      "execution_count": null,
      "outputs": []
    },
    {
      "cell_type": "code",
      "source": [
        "sns.pairplot(data)\n",
        "plt.show()"
      ],
      "metadata": {
        "id": "0d84Ks64w5Jt"
      },
      "execution_count": null,
      "outputs": []
    },
    {
      "cell_type": "code",
      "source": [
        "plt.hist(data[\n",
        "'area'\n",
        "], bins=\n",
        "10\n",
        ")\n",
        "plt.xlabel(\n",
        "'Area'\n",
        ")\n",
        "plt.ylabel(\n",
        "'Frequency'\n",
        ")\n",
        "plt.show()"
      ],
      "metadata": {
        "id": "kt1XatZyxB9Q"
      },
      "execution_count": null,
      "outputs": []
    },
    {
      "cell_type": "code",
      "source": [
        "sns.kdeplot(data[\n",
        "'price'\n",
        "], shade=\n",
        "True\n",
        ")\n",
        "plt.xlabel(\n",
        "'Price'\n",
        ")\n",
        "plt.ylabel(\n",
        "'Density'\n",
        ")\n",
        "plt.show()"
      ],
      "metadata": {
        "id": "Ucp0k9CNxH5X"
      },
      "execution_count": null,
      "outputs": []
    },
    {
      "cell_type": "code",
      "source": [
        "data.columns"
      ],
      "metadata": {
        "id": "EaUHVUhGxUG7"
      },
      "execution_count": null,
      "outputs": []
    },
    {
      "cell_type": "code",
      "source": [
        "data.select_dtypes(include='object').columns"
      ],
      "metadata": {
        "id": "2qicISHGxdcf"
      },
      "execution_count": null,
      "outputs": []
    },
    {
      "cell_type": "code",
      "source": [
        "def binary_map(x):\n",
        "    return x.map({'yes': 1, 'no': 0})\n"
      ],
      "metadata": {
        "id": "ym-fJsJGxp8q"
      },
      "execution_count": null,
      "outputs": []
    },
    {
      "cell_type": "code",
      "source": [
        "categorical_col = ['mainroad',\n",
        "'guestroom'\n",
        ",\n",
        "'basement'\n",
        ",\n",
        "'hotwaterheating'\n",
        ",\n",
        "'airconditioning'\n",
        ",\n",
        "'prefarea'\n",
        "]\n"
      ],
      "metadata": {
        "id": "Igv8yMNnxvZT"
      },
      "execution_count": null,
      "outputs": []
    },
    {
      "cell_type": "code",
      "source": [
        "data[categorical_col] = data[categorical_col].apply(binary_map)\n",
        "data.head()"
      ],
      "metadata": {
        "id": "mfyEPCblx13H"
      },
      "execution_count": null,
      "outputs": []
    },
    {
      "cell_type": "code",
      "source": [
        "dummy_col = pd.get_dummies(data[\n",
        "'furnishingstatus'\n",
        "])\n",
        "dummy_col.head()"
      ],
      "metadata": {
        "id": "396xHvSux8CY"
      },
      "execution_count": null,
      "outputs": []
    },
    {
      "cell_type": "code",
      "source": [
        "dummy_col = pd.get_dummies(data[\n",
        "'furnishingstatus'\n",
        "], drop_first=\n",
        "True\n",
        ")\n",
        "dummy_col.head()"
      ],
      "metadata": {
        "id": "rofPkNy8yBI4"
      },
      "execution_count": null,
      "outputs": []
    },
    {
      "cell_type": "code",
      "source": [
        "data = pd.concat([data, dummy_col], axis=\n",
        "1\n",
        ")\n",
        "data.head()\n",
        ""
      ],
      "metadata": {
        "id": "czMqO4y-yG3w"
      },
      "execution_count": null,
      "outputs": []
    },
    {
      "cell_type": "code",
      "source": [
        "\n",
        "\n",
        "data.drop([\n",
        "'furnishingstatus'\n",
        "], axis=\n",
        "1\n",
        ", inplace=\n",
        "True\n",
        ")\n",
        "data.head()"
      ],
      "metadata": {
        "id": "wjslp5EGyNNX"
      },
      "execution_count": null,
      "outputs": []
    },
    {
      "cell_type": "code",
      "source": [
        "data.columns\n",
        ""
      ],
      "metadata": {
        "id": "qm84zVd3yTSh"
      },
      "execution_count": null,
      "outputs": []
    },
    {
      "cell_type": "code",
      "source": [
        "np.random.seed(0)\n",
        "df_train, df_test = train_test_split(data, train_size=0.7, test_size=0.3, random_state=100)\n",
        "df_train.head()\n",
        "\n"
      ],
      "metadata": {
        "id": "KbcdTJAYyYyE"
      },
      "execution_count": null,
      "outputs": []
    },
    {
      "cell_type": "code",
      "source": [
        "df_train.shape"
      ],
      "metadata": {
        "id": "-gPmN54zydzl"
      },
      "execution_count": null,
      "outputs": []
    },
    {
      "cell_type": "code",
      "source": [
        "df_test.head()"
      ],
      "metadata": {
        "id": "fLRXvSb4ylPe"
      },
      "execution_count": null,
      "outputs": []
    },
    {
      "cell_type": "code",
      "source": [
        "df_test.shape\n",
        ""
      ],
      "metadata": {
        "id": "4Q825C5tyqEj"
      },
      "execution_count": null,
      "outputs": []
    },
    {
      "cell_type": "code",
      "source": [
        "scaler = MinMaxScaler()\n",
        "col_to_scale = ['area', 'bedrooms', 'bathrooms', 'stories', 'parking', 'price']\n",
        "df_train[col_to_scale] = scaler.fit_transform(df_train[col_to_scale])\n",
        "df_train.head()"
      ],
      "metadata": {
        "id": "IBF8EAe_ywWC"
      },
      "execution_count": null,
      "outputs": []
    },
    {
      "cell_type": "code",
      "source": [
        "y_train = df_train.pop('price')\n",
        "x_train = df_train\n",
        "y_train.head()"
      ],
      "metadata": {
        "id": "Ke0B_WBqy3Lp"
      },
      "execution_count": null,
      "outputs": []
    },
    {
      "cell_type": "code",
      "source": [
        "linear_regression = LinearRegression()\n",
        "linear_regression.fit(x_train, y_train)"
      ],
      "metadata": {
        "id": "HuBSHN7ry80e"
      },
      "execution_count": null,
      "outputs": []
    },
    {
      "cell_type": "code",
      "source": [
        "coefficients = linear_regression.coef_\n",
        "print\n",
        "(coefficients)\n",
        ""
      ],
      "metadata": {
        "id": "VpugLKQszCw3"
      },
      "execution_count": null,
      "outputs": []
    },
    {
      "cell_type": "code",
      "source": [
        "score = linear_regression.score(x_train, y_train)\n",
        "print\n",
        "(score)\n",
        ""
      ],
      "metadata": {
        "id": "7cX9vjvDzJ1B"
      },
      "execution_count": null,
      "outputs": []
    },
    {
      "cell_type": "code",
      "source": [
        "col_to_scale = ['area','bedrooms','bathrooms','stories','parking','price']\n",
        "df_test[col_to_scale] = scaler.fit_transform(df_test[col_to_scale])\n",
        "y_test = df_test.pop('price')\n",
        "x_test = df_test\n",
        "prediction = linear_regression.predict(x_test)\n",
        "r2 = r2_score(y_test, prediction)\n",
        "y_test_matrix = y_test.values.reshape(-1,1)\n",
        "data_frame = pd.DataFrame({'actual': y_test_matrix.flatten(),'predicted': prediction.flatten()})\n",
        "data_frame.head(10)"
      ],
      "metadata": {
        "id": "Mw9MBS6OzPKY"
      },
      "execution_count": null,
      "outputs": []
    },
    {
      "cell_type": "code",
      "source": [
        "\n",
        "\n",
        "fig = plt.figure()\n",
        "plt.scatter(y_test, prediction)\n",
        "plt.title('Actual vs Prediction')\n",
        "plt.xlabel('Actual', fontsize=15)\n",
        "plt.ylabel('Predicted', fontsize=15)\n"
      ],
      "metadata": {
        "id": "Cn7W7SxczUPn"
      },
      "execution_count": null,
      "outputs": []
    }
  ]
}